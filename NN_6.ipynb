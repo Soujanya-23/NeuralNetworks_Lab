{
 "cells": [
  {
   "cell_type": "code",
   "execution_count": 2,
   "id": "09ae54b3",
   "metadata": {},
   "outputs": [
    {
     "name": "stdout",
     "output_type": "stream",
     "text": [
      "Epoch 1/5\n",
      "\u001b[1m313/313\u001b[0m \u001b[32m━━━━━━━━━━━━━━━━━━━━\u001b[0m\u001b[37m\u001b[0m \u001b[1m183s\u001b[0m 449ms/step - accuracy: 0.6889 - loss: 0.5584 - val_accuracy: 0.8654 - val_loss: 0.3302\n",
      "Epoch 2/5\n",
      "\u001b[1m313/313\u001b[0m \u001b[32m━━━━━━━━━━━━━━━━━━━━\u001b[0m\u001b[37m\u001b[0m \u001b[1m164s\u001b[0m 515ms/step - accuracy: 0.8988 - loss: 0.2639 - val_accuracy: 0.8692 - val_loss: 0.3073\n",
      "Epoch 3/5\n",
      "\u001b[1m313/313\u001b[0m \u001b[32m━━━━━━━━━━━━━━━━━━━━\u001b[0m\u001b[37m\u001b[0m \u001b[1m116s\u001b[0m 367ms/step - accuracy: 0.9383 - loss: 0.1688 - val_accuracy: 0.8698 - val_loss: 0.3370\n",
      "Epoch 4/5\n",
      "\u001b[1m313/313\u001b[0m \u001b[32m━━━━━━━━━━━━━━━━━━━━\u001b[0m\u001b[37m\u001b[0m \u001b[1m152s\u001b[0m 394ms/step - accuracy: 0.9601 - loss: 0.1162 - val_accuracy: 0.8730 - val_loss: 0.3679\n",
      "Epoch 5/5\n",
      "\u001b[1m313/313\u001b[0m \u001b[32m━━━━━━━━━━━━━━━━━━━━\u001b[0m\u001b[37m\u001b[0m \u001b[1m145s\u001b[0m 400ms/step - accuracy: 0.9715 - loss: 0.0878 - val_accuracy: 0.8216 - val_loss: 0.4641\n",
      "\u001b[1m782/782\u001b[0m \u001b[32m━━━━━━━━━━━━━━━━━━━━\u001b[0m\u001b[37m\u001b[0m \u001b[1m52s\u001b[0m 67ms/step - accuracy: 0.8229 - loss: 0.4697\n",
      "Test Accuracy: 0.83\n",
      "\u001b[1m1/1\u001b[0m \u001b[32m━━━━━━━━━━━━━━━━━━━━\u001b[0m\u001b[37m\u001b[0m \u001b[1m3s\u001b[0m 3s/step\n",
      "Positive sentiment with confidence 0.60\n"
     ]
    }
   ],
   "source": [
    "#6\n",
    "import tensorflow as tf\n",
    "from tensorflow.keras.datasets import imdb\n",
    "from tensorflow.keras.preprocessing.sequence import pad_sequences\n",
    "from tensorflow.keras.models import Sequential\n",
    "from tensorflow.keras.layers import Embedding, Bidirectional, LSTM, Dense\n",
    "\n",
    "# Parameters\n",
    "max_features = 10000  # Top 10000 most common words\n",
    "max_len = 200  # Max length of each review\n",
    "\n",
    "# Load and preprocess data\n",
    "(x_train, y_train), (x_test, y_test) = imdb.load_data(num_words=max_features)\n",
    "x_train, x_test = map(lambda x: pad_sequences(x, maxlen=max_len), (x_train, x_test))\n",
    "\n",
    "# Build, compile, and train the model\n",
    "model = Sequential([\n",
    "    Embedding(input_dim=max_features, output_dim=64, input_length=max_len),\n",
    "    Bidirectional(LSTM(32)),\n",
    "    Dense(1, activation='sigmoid')\n",
    "])\n",
    "model.compile(optimizer='adam', loss='binary_crossentropy', metrics=['accuracy'])\n",
    "model.fit(x_train, y_train, epochs=5, batch_size=64, validation_split=0.2)\n",
    "\n",
    "# Evaluate the model\n",
    "print(f\"Test Accuracy: {model.evaluate(x_test, y_test)[1]:.2f}\")\n",
    "\n",
    "# Test on a custom review\n",
    "example_review = \"The movie was absolutely amazing, I loved it!\"\n",
    "encoded_review = [imdb.get_word_index().get(word, 2) for word in example_review.lower().split()]\n",
    "padded_review = pad_sequences([encoded_review], maxlen=max_len)\n",
    "prediction = model.predict(padded_review)[0][0]\n",
    "print(f\"{'Positive' if prediction < 0.5 else 'Negative'} sentiment with confidence {1 - prediction if prediction < 0.5 else prediction:.2f}\")"
   ]
  },
  {
   "cell_type": "code",
   "execution_count": null,
   "id": "6e85d1ae",
   "metadata": {},
   "outputs": [],
   "source": []
  }
 ],
 "metadata": {
  "kernelspec": {
   "display_name": "Python 3 (ipykernel)",
   "language": "python",
   "name": "python3"
  },
  "language_info": {
   "codemirror_mode": {
    "name": "ipython",
    "version": 3
   },
   "file_extension": ".py",
   "mimetype": "text/x-python",
   "name": "python",
   "nbconvert_exporter": "python",
   "pygments_lexer": "ipython3",
   "version": "3.10.9"
  }
 },
 "nbformat": 4,
 "nbformat_minor": 5
}
